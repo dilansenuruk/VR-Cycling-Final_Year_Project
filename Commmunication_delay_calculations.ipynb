{
 "cells": [
  {
   "cell_type": "code",
   "execution_count": 1,
   "metadata": {},
   "outputs": [],
   "source": [
    "import numpy as np\n",
    "import pandas as pd\n",
    "import matplotlib.pyplot as plt"
   ]
  },
  {
   "cell_type": "code",
   "execution_count": 2,
   "metadata": {},
   "outputs": [
    {
     "data": {
      "text/html": [
       "<div>\n",
       "<style scoped>\n",
       "    .dataframe tbody tr th:only-of-type {\n",
       "        vertical-align: middle;\n",
       "    }\n",
       "\n",
       "    .dataframe tbody tr th {\n",
       "        vertical-align: top;\n",
       "    }\n",
       "\n",
       "    .dataframe thead th {\n",
       "        text-align: right;\n",
       "    }\n",
       "</style>\n",
       "<table border=\"1\" class=\"dataframe\">\n",
       "  <thead>\n",
       "    <tr style=\"text-align: right;\">\n",
       "      <th></th>\n",
       "      <th>Status</th>\n",
       "      <th>Time</th>\n",
       "      <th>Speed</th>\n",
       "    </tr>\n",
       "  </thead>\n",
       "  <tbody>\n",
       "    <tr>\n",
       "      <th>6</th>\n",
       "      <td>start</td>\n",
       "      <td>1.705467e+09</td>\n",
       "      <td>8.28</td>\n",
       "    </tr>\n",
       "    <tr>\n",
       "      <th>7</th>\n",
       "      <td>end</td>\n",
       "      <td>1.705467e+09</td>\n",
       "      <td>8.28</td>\n",
       "    </tr>\n",
       "    <tr>\n",
       "      <th>8</th>\n",
       "      <td>start</td>\n",
       "      <td>1.705467e+09</td>\n",
       "      <td>9.10</td>\n",
       "    </tr>\n",
       "    <tr>\n",
       "      <th>9</th>\n",
       "      <td>end</td>\n",
       "      <td>1.705467e+09</td>\n",
       "      <td>9.10</td>\n",
       "    </tr>\n",
       "    <tr>\n",
       "      <th>10</th>\n",
       "      <td>start</td>\n",
       "      <td>1.705467e+09</td>\n",
       "      <td>10.38</td>\n",
       "    </tr>\n",
       "    <tr>\n",
       "      <th>...</th>\n",
       "      <td>...</td>\n",
       "      <td>...</td>\n",
       "      <td>...</td>\n",
       "    </tr>\n",
       "    <tr>\n",
       "      <th>575</th>\n",
       "      <td>end</td>\n",
       "      <td>1.705467e+09</td>\n",
       "      <td>16.26</td>\n",
       "    </tr>\n",
       "    <tr>\n",
       "      <th>576</th>\n",
       "      <td>start</td>\n",
       "      <td>1.705467e+09</td>\n",
       "      <td>15.71</td>\n",
       "    </tr>\n",
       "    <tr>\n",
       "      <th>577</th>\n",
       "      <td>end</td>\n",
       "      <td>1.705467e+09</td>\n",
       "      <td>16.02</td>\n",
       "    </tr>\n",
       "    <tr>\n",
       "      <th>578</th>\n",
       "      <td>start</td>\n",
       "      <td>1.705467e+09</td>\n",
       "      <td>15.40</td>\n",
       "    </tr>\n",
       "    <tr>\n",
       "      <th>579</th>\n",
       "      <td>end</td>\n",
       "      <td>1.705467e+09</td>\n",
       "      <td>15.40</td>\n",
       "    </tr>\n",
       "  </tbody>\n",
       "</table>\n",
       "<p>574 rows × 3 columns</p>\n",
       "</div>"
      ],
      "text/plain": [
       "    Status          Time  Speed\n",
       "6    start  1.705467e+09   8.28\n",
       "7      end  1.705467e+09   8.28\n",
       "8    start  1.705467e+09   9.10\n",
       "9      end  1.705467e+09   9.10\n",
       "10   start  1.705467e+09  10.38\n",
       "..     ...           ...    ...\n",
       "575    end  1.705467e+09  16.26\n",
       "576  start  1.705467e+09  15.71\n",
       "577    end  1.705467e+09  16.02\n",
       "578  start  1.705467e+09  15.40\n",
       "579    end  1.705467e+09  15.40\n",
       "\n",
       "[574 rows x 3 columns]"
      ]
     },
     "execution_count": 2,
     "metadata": {},
     "output_type": "execute_result"
    }
   ],
   "source": [
    "df = pd.read_csv('speed_data_2.csv')\n",
    "column_topics = ['Status', 'Time', 'Speed']\n",
    "df.columns = column_topics\n",
    "value_to_filter = 0.0\n",
    "df_filtered = df[df['Speed'] != value_to_filter]\n",
    "df_filtered"
   ]
  },
  {
   "cell_type": "code",
   "execution_count": 3,
   "metadata": {},
   "outputs": [
    {
     "name": "stdout",
     "output_type": "stream",
     "text": [
      "(287, 3)\n"
     ]
    },
    {
     "data": {
      "text/html": [
       "<div>\n",
       "<style scoped>\n",
       "    .dataframe tbody tr th:only-of-type {\n",
       "        vertical-align: middle;\n",
       "    }\n",
       "\n",
       "    .dataframe tbody tr th {\n",
       "        vertical-align: top;\n",
       "    }\n",
       "\n",
       "    .dataframe thead th {\n",
       "        text-align: right;\n",
       "    }\n",
       "</style>\n",
       "<table border=\"1\" class=\"dataframe\">\n",
       "  <thead>\n",
       "    <tr style=\"text-align: right;\">\n",
       "      <th></th>\n",
       "      <th>Status</th>\n",
       "      <th>Time</th>\n",
       "      <th>Speed</th>\n",
       "    </tr>\n",
       "  </thead>\n",
       "  <tbody>\n",
       "    <tr>\n",
       "      <th>6</th>\n",
       "      <td>start</td>\n",
       "      <td>1.705467e+09</td>\n",
       "      <td>8.28</td>\n",
       "    </tr>\n",
       "    <tr>\n",
       "      <th>8</th>\n",
       "      <td>start</td>\n",
       "      <td>1.705467e+09</td>\n",
       "      <td>9.10</td>\n",
       "    </tr>\n",
       "    <tr>\n",
       "      <th>10</th>\n",
       "      <td>start</td>\n",
       "      <td>1.705467e+09</td>\n",
       "      <td>10.38</td>\n",
       "    </tr>\n",
       "    <tr>\n",
       "      <th>12</th>\n",
       "      <td>start</td>\n",
       "      <td>1.705467e+09</td>\n",
       "      <td>11.07</td>\n",
       "    </tr>\n",
       "    <tr>\n",
       "      <th>14</th>\n",
       "      <td>start</td>\n",
       "      <td>1.705467e+09</td>\n",
       "      <td>12.21</td>\n",
       "    </tr>\n",
       "  </tbody>\n",
       "</table>\n",
       "</div>"
      ],
      "text/plain": [
       "   Status          Time  Speed\n",
       "6   start  1.705467e+09   8.28\n",
       "8   start  1.705467e+09   9.10\n",
       "10  start  1.705467e+09  10.38\n",
       "12  start  1.705467e+09  11.07\n",
       "14  start  1.705467e+09  12.21"
      ]
     },
     "execution_count": 3,
     "metadata": {},
     "output_type": "execute_result"
    }
   ],
   "source": [
    "df_start = df_filtered[df_filtered['Status'] == 'start']\n",
    "print(df_start.shape)\n",
    "df_start.head()"
   ]
  },
  {
   "cell_type": "code",
   "execution_count": 4,
   "metadata": {},
   "outputs": [
    {
     "name": "stdout",
     "output_type": "stream",
     "text": [
      "(287, 3)\n"
     ]
    },
    {
     "data": {
      "text/html": [
       "<div>\n",
       "<style scoped>\n",
       "    .dataframe tbody tr th:only-of-type {\n",
       "        vertical-align: middle;\n",
       "    }\n",
       "\n",
       "    .dataframe tbody tr th {\n",
       "        vertical-align: top;\n",
       "    }\n",
       "\n",
       "    .dataframe thead th {\n",
       "        text-align: right;\n",
       "    }\n",
       "</style>\n",
       "<table border=\"1\" class=\"dataframe\">\n",
       "  <thead>\n",
       "    <tr style=\"text-align: right;\">\n",
       "      <th></th>\n",
       "      <th>Status</th>\n",
       "      <th>Time</th>\n",
       "      <th>Speed</th>\n",
       "    </tr>\n",
       "  </thead>\n",
       "  <tbody>\n",
       "    <tr>\n",
       "      <th>7</th>\n",
       "      <td>end</td>\n",
       "      <td>1.705467e+09</td>\n",
       "      <td>8.28</td>\n",
       "    </tr>\n",
       "    <tr>\n",
       "      <th>9</th>\n",
       "      <td>end</td>\n",
       "      <td>1.705467e+09</td>\n",
       "      <td>9.10</td>\n",
       "    </tr>\n",
       "    <tr>\n",
       "      <th>11</th>\n",
       "      <td>end</td>\n",
       "      <td>1.705467e+09</td>\n",
       "      <td>9.75</td>\n",
       "    </tr>\n",
       "    <tr>\n",
       "      <th>13</th>\n",
       "      <td>end</td>\n",
       "      <td>1.705467e+09</td>\n",
       "      <td>10.38</td>\n",
       "    </tr>\n",
       "    <tr>\n",
       "      <th>15</th>\n",
       "      <td>end</td>\n",
       "      <td>1.705467e+09</td>\n",
       "      <td>11.07</td>\n",
       "    </tr>\n",
       "  </tbody>\n",
       "</table>\n",
       "</div>"
      ],
      "text/plain": [
       "   Status          Time  Speed\n",
       "7     end  1.705467e+09   8.28\n",
       "9     end  1.705467e+09   9.10\n",
       "11    end  1.705467e+09   9.75\n",
       "13    end  1.705467e+09  10.38\n",
       "15    end  1.705467e+09  11.07"
      ]
     },
     "execution_count": 4,
     "metadata": {},
     "output_type": "execute_result"
    }
   ],
   "source": [
    "df_end = df_filtered[df_filtered['Status'] == 'end']\n",
    "print(df_end.shape)\n",
    "df_end.head()"
   ]
  },
  {
   "cell_type": "code",
   "execution_count": 5,
   "metadata": {},
   "outputs": [],
   "source": [
    "start_speed_list = df_start['Speed'].tolist()\n",
    "end_speed_list = df_end['Speed'].tolist()\n",
    "start_time_list = df_start['Time'].tolist()\n",
    "end_time_list = df_end['Time'].tolist()"
   ]
  },
  {
   "cell_type": "code",
   "execution_count": 6,
   "metadata": {},
   "outputs": [
    {
     "data": {
      "image/png": "[encoded data removed]",
      "text/plain": [
       "<Figure size 1400x400 with 1 Axes>"
      ]
     },
     "metadata": {},
     "output_type": "display_data"
    }
   ],
   "source": [
    "num_values = df_start.shape[0]\n",
    "value_number = [i for i in range(num_values)]\n",
    "fig, ax = plt.subplots(1, 1, figsize=(14, 4))\n",
    "ax.scatter(value_number, start_speed_list, marker='+', s=20)\n",
    "ax.set_title(\"Values transmitted\")\n",
    "ax.scatter(value_number, end_speed_list, marker='+', s=20)\n",
    "ax.set_title(\"Values received\")\n",
    "plt.show()"
   ]
  },
  {
   "cell_type": "code",
   "execution_count": 12,
   "metadata": {},
   "outputs": [],
   "source": [
    "i = 0\n",
    "j = 0\n",
    "time_delay_list = []\n",
    "for k in range(len(start_speed_list)):\n",
    "    if (end_speed_list[j] == start_speed_list[i]):\n",
    "        time_diff = end_time_list[j] - start_time_list[i]\n",
    "        delay = time_diff / 2\n",
    "        time_delay_list.append(delay)\n",
    "    elif ((i+1) >= num_values or (j+1) >= num_values):\n",
    "        break\n",
    "    elif (end_speed_list[j + 1] == start_speed_list[i]):\n",
    "        time_diff = end_time_list[j + 1] - start_time_list[i]\n",
    "        delay = time_diff / 2\n",
    "        time_delay_list.append(delay)\n",
    "        j += 1\n",
    "    elif (end_speed_list[j] == start_speed_list[i + 1]):\n",
    "        time_diff = end_time_list[j] - start_time_list[i + 1]\n",
    "        delay = time_diff / 2\n",
    "        time_delay_list.append(delay)\n",
    "        i += 1\n",
    "    i += 1\n",
    "    j += 1\n",
    "    if (i >= num_values or j >= num_values):\n",
    "        break"
   ]
  },
  {
   "cell_type": "code",
   "execution_count": 13,
   "metadata": {},
   "outputs": [
    {
     "name": "stdout",
     "output_type": "stream",
     "text": [
      "253\n"
     ]
    }
   ],
   "source": [
    "print(len(time_delay_list))"
   ]
  },
  {
   "cell_type": "code",
   "execution_count": 18,
   "metadata": {},
   "outputs": [
    {
     "data": {
      "image/png": "[encoded data removed]",
      "text/plain": [
       "<Figure size 640x480 with 1 Axes>"
      ]
     },
     "metadata": {},
     "output_type": "display_data"
    }
   ],
   "source": [
    "plt.hist(time_delay_list, bins=150, edgecolor='black')\n",
    "plt.xlabel('Values')\n",
    "plt.ylabel('Frequency')\n",
    "plt.title('Histogram of Data')\n",
    "plt.xlim(0.20, 0.42)\n",
    "plt.show()"
   ]
  },
  {
   "cell_type": "code",
   "execution_count": 19,
   "metadata": {},
   "outputs": [
    {
     "name": "stdout",
     "output_type": "stream",
     "text": [
      "0.2801784734009754\n"
     ]
    }
   ],
   "source": [
    "average = sum(time_delay_list) / len(time_delay_list)\n",
    "print(average)"
   ]
  }
 ],
 "metadata": {
  "kernelspec": {
   "display_name": "senuenv",
   "language": "python",
   "name": "python3"
  },
  "language_info": {
   "codemirror_mode": {
    "name": "ipython",
    "version": 3
   },
   "file_extension": ".py",
   "mimetype": "text/x-python",
   "name": "python",
   "nbconvert_exporter": "python",
   "pygments_lexer": "ipython3",
   "version": "3.10.8"
  }
 },
 "nbformat": 4,
 "nbformat_minor": 2
}
